{
 "cells": [
  {
   "cell_type": "code",
   "execution_count": 1,
   "metadata": {
    "id": "j37flV31OJGW"
   },
   "outputs": [
    {
     "name": "stderr",
     "output_type": "stream",
     "text": [
      "2023-08-21 23:41:39.812496: I tensorflow/core/platform/cpu_feature_guard.cc:182] This TensorFlow binary is optimized to use available CPU instructions in performance-critical operations.\n",
      "To enable the following instructions: AVX2 FMA, in other operations, rebuild TensorFlow with the appropriate compiler flags.\n",
      "2023-08-21 23:41:41.067824: W tensorflow/compiler/tf2tensorrt/utils/py_utils.cc:38] TF-TRT Warning: Could not find TensorRT\n"
     ]
    }
   ],
   "source": [
    "import pandas as pd\n",
    "import numpy as np\n",
    "import datetime\n",
    "import yfinance as yf\n",
    "\n",
    "from finrl.meta.preprocessor.yahoodownloader import YahooDownloader\n",
    "from finrl.meta.preprocessor.preprocessors import FeatureEngineer, data_split\n",
    "from finrl import config_tickers\n",
    "from finrl.config import INDICATORS\n",
    "\n",
    "import itertools"
   ]
  },
  {
   "cell_type": "markdown",
   "metadata": {
    "id": "wxsN8i7tg07U"
   },
   "source": [
    "# Part 2. Fetch data"
   ]
  },
  {
   "cell_type": "code",
   "execution_count": 2,
   "metadata": {
    "colab": {
     "base_uri": "https://localhost:8080/"
    },
    "id": "SSl6mVV7XNw6",
    "outputId": "460c06eb-c71d-4ebb-fe17-481295d70cff"
   },
   "outputs": [
    {
     "name": "stdout",
     "output_type": "stream",
     "text": [
      "[*********************100%***********************]  1 of 1 completed\n"
     ]
    }
   ],
   "source": [
    "aapl_df_yf = yf.download(tickers = \"aapl\", start='2020-01-01', end='2020-01-31')"
   ]
  },
  {
   "cell_type": "code",
   "execution_count": 3,
   "metadata": {
    "colab": {
     "base_uri": "https://localhost:8080/",
     "height": 238
    },
    "id": "Rjutz22rXrpR",
    "outputId": "62aadc8c-b854-403d-ac73-6cf86d53fa22"
   },
   "outputs": [
    {
     "data": {
      "text/html": [
       "<div>\n",
       "<style scoped>\n",
       "    .dataframe tbody tr th:only-of-type {\n",
       "        vertical-align: middle;\n",
       "    }\n",
       "\n",
       "    .dataframe tbody tr th {\n",
       "        vertical-align: top;\n",
       "    }\n",
       "\n",
       "    .dataframe thead th {\n",
       "        text-align: right;\n",
       "    }\n",
       "</style>\n",
       "<table border=\"1\" class=\"dataframe\">\n",
       "  <thead>\n",
       "    <tr style=\"text-align: right;\">\n",
       "      <th></th>\n",
       "      <th>Open</th>\n",
       "      <th>High</th>\n",
       "      <th>Low</th>\n",
       "      <th>Close</th>\n",
       "      <th>Adj Close</th>\n",
       "      <th>Volume</th>\n",
       "    </tr>\n",
       "    <tr>\n",
       "      <th>Date</th>\n",
       "      <th></th>\n",
       "      <th></th>\n",
       "      <th></th>\n",
       "      <th></th>\n",
       "      <th></th>\n",
       "      <th></th>\n",
       "    </tr>\n",
       "  </thead>\n",
       "  <tbody>\n",
       "    <tr>\n",
       "      <th>2020-01-02</th>\n",
       "      <td>74.059998</td>\n",
       "      <td>75.150002</td>\n",
       "      <td>73.797501</td>\n",
       "      <td>75.087502</td>\n",
       "      <td>73.249031</td>\n",
       "      <td>135480400</td>\n",
       "    </tr>\n",
       "    <tr>\n",
       "      <th>2020-01-03</th>\n",
       "      <td>74.287498</td>\n",
       "      <td>75.144997</td>\n",
       "      <td>74.125000</td>\n",
       "      <td>74.357498</td>\n",
       "      <td>72.536888</td>\n",
       "      <td>146322800</td>\n",
       "    </tr>\n",
       "    <tr>\n",
       "      <th>2020-01-06</th>\n",
       "      <td>73.447502</td>\n",
       "      <td>74.989998</td>\n",
       "      <td>73.187500</td>\n",
       "      <td>74.949997</td>\n",
       "      <td>73.114876</td>\n",
       "      <td>118387200</td>\n",
       "    </tr>\n",
       "    <tr>\n",
       "      <th>2020-01-07</th>\n",
       "      <td>74.959999</td>\n",
       "      <td>75.224998</td>\n",
       "      <td>74.370003</td>\n",
       "      <td>74.597504</td>\n",
       "      <td>72.771019</td>\n",
       "      <td>108872000</td>\n",
       "    </tr>\n",
       "    <tr>\n",
       "      <th>2020-01-08</th>\n",
       "      <td>74.290001</td>\n",
       "      <td>76.110001</td>\n",
       "      <td>74.290001</td>\n",
       "      <td>75.797501</td>\n",
       "      <td>73.941635</td>\n",
       "      <td>132079200</td>\n",
       "    </tr>\n",
       "  </tbody>\n",
       "</table>\n",
       "</div>"
      ],
      "text/plain": [
       "                 Open       High        Low      Close  Adj Close     Volume\n",
       "Date                                                                        \n",
       "2020-01-02  74.059998  75.150002  73.797501  75.087502  73.249031  135480400\n",
       "2020-01-03  74.287498  75.144997  74.125000  74.357498  72.536888  146322800\n",
       "2020-01-06  73.447502  74.989998  73.187500  74.949997  73.114876  118387200\n",
       "2020-01-07  74.959999  75.224998  74.370003  74.597504  72.771019  108872000\n",
       "2020-01-08  74.290001  76.110001  74.290001  75.797501  73.941635  132079200"
      ]
     },
     "execution_count": 3,
     "metadata": {},
     "output_type": "execute_result"
    }
   ],
   "source": [
    "aapl_df_yf.head()"
   ]
  },
  {
   "cell_type": "code",
   "execution_count": 4,
   "metadata": {
    "colab": {
     "base_uri": "https://localhost:8080/"
    },
    "id": "7ufDHvt4XBWT",
    "outputId": "41603042-4f14-4814-c569-305d85fa7f9d"
   },
   "outputs": [
    {
     "name": "stdout",
     "output_type": "stream",
     "text": [
      "[*********************100%***********************]  1 of 1 completed\n",
      "Shape of DataFrame:  (20, 8)\n"
     ]
    }
   ],
   "source": [
    "aapl_df_finrl = YahooDownloader(start_date = '2020-01-01',\n",
    "                                end_date = '2020-01-31',\n",
    "                                ticker_list = ['aapl']).fetch_data()"
   ]
  },
  {
   "cell_type": "code",
   "execution_count": 5,
   "metadata": {
    "colab": {
     "base_uri": "https://localhost:8080/",
     "height": 206
    },
    "id": "_TgEjXxhXtT_",
    "outputId": "a8e8a9e2-a1ea-472e-eddf-2227e6c901d8"
   },
   "outputs": [
    {
     "data": {
      "text/html": [
       "<div>\n",
       "<style scoped>\n",
       "    .dataframe tbody tr th:only-of-type {\n",
       "        vertical-align: middle;\n",
       "    }\n",
       "\n",
       "    .dataframe tbody tr th {\n",
       "        vertical-align: top;\n",
       "    }\n",
       "\n",
       "    .dataframe thead th {\n",
       "        text-align: right;\n",
       "    }\n",
       "</style>\n",
       "<table border=\"1\" class=\"dataframe\">\n",
       "  <thead>\n",
       "    <tr style=\"text-align: right;\">\n",
       "      <th></th>\n",
       "      <th>date</th>\n",
       "      <th>open</th>\n",
       "      <th>high</th>\n",
       "      <th>low</th>\n",
       "      <th>close</th>\n",
       "      <th>volume</th>\n",
       "      <th>tic</th>\n",
       "      <th>day</th>\n",
       "    </tr>\n",
       "  </thead>\n",
       "  <tbody>\n",
       "    <tr>\n",
       "      <th>0</th>\n",
       "      <td>2020-01-02</td>\n",
       "      <td>74.059998</td>\n",
       "      <td>75.150002</td>\n",
       "      <td>73.797501</td>\n",
       "      <td>73.249031</td>\n",
       "      <td>135480400</td>\n",
       "      <td>aapl</td>\n",
       "      <td>3</td>\n",
       "    </tr>\n",
       "    <tr>\n",
       "      <th>1</th>\n",
       "      <td>2020-01-03</td>\n",
       "      <td>74.287498</td>\n",
       "      <td>75.144997</td>\n",
       "      <td>74.125000</td>\n",
       "      <td>72.536903</td>\n",
       "      <td>146322800</td>\n",
       "      <td>aapl</td>\n",
       "      <td>4</td>\n",
       "    </tr>\n",
       "    <tr>\n",
       "      <th>2</th>\n",
       "      <td>2020-01-06</td>\n",
       "      <td>73.447502</td>\n",
       "      <td>74.989998</td>\n",
       "      <td>73.187500</td>\n",
       "      <td>73.114891</td>\n",
       "      <td>118387200</td>\n",
       "      <td>aapl</td>\n",
       "      <td>0</td>\n",
       "    </tr>\n",
       "    <tr>\n",
       "      <th>3</th>\n",
       "      <td>2020-01-07</td>\n",
       "      <td>74.959999</td>\n",
       "      <td>75.224998</td>\n",
       "      <td>74.370003</td>\n",
       "      <td>72.771027</td>\n",
       "      <td>108872000</td>\n",
       "      <td>aapl</td>\n",
       "      <td>1</td>\n",
       "    </tr>\n",
       "    <tr>\n",
       "      <th>4</th>\n",
       "      <td>2020-01-08</td>\n",
       "      <td>74.290001</td>\n",
       "      <td>76.110001</td>\n",
       "      <td>74.290001</td>\n",
       "      <td>73.941628</td>\n",
       "      <td>132079200</td>\n",
       "      <td>aapl</td>\n",
       "      <td>2</td>\n",
       "    </tr>\n",
       "  </tbody>\n",
       "</table>\n",
       "</div>"
      ],
      "text/plain": [
       "         date       open       high        low      close     volume   tic  \\\n",
       "0  2020-01-02  74.059998  75.150002  73.797501  73.249031  135480400  aapl   \n",
       "1  2020-01-03  74.287498  75.144997  74.125000  72.536903  146322800  aapl   \n",
       "2  2020-01-06  73.447502  74.989998  73.187500  73.114891  118387200  aapl   \n",
       "3  2020-01-07  74.959999  75.224998  74.370003  72.771027  108872000  aapl   \n",
       "4  2020-01-08  74.290001  76.110001  74.290001  73.941628  132079200  aapl   \n",
       "\n",
       "   day  \n",
       "0    3  \n",
       "1    4  \n",
       "2    0  \n",
       "3    1  \n",
       "4    2  "
      ]
     },
     "execution_count": 5,
     "metadata": {},
     "output_type": "execute_result"
    }
   ],
   "source": [
    "aapl_df_finrl.head()"
   ]
  },
  {
   "cell_type": "markdown",
   "metadata": {
    "id": "9kcOE5nbic6R"
   },
   "source": [
    "## Data for the chosen tickers"
   ]
  },
  {
   "cell_type": "code",
   "execution_count": 6,
   "metadata": {
    "colab": {
     "base_uri": "https://localhost:8080/"
    },
    "id": "FKBjtAo2uIq5",
    "outputId": "927f682a-9cc3-4c11-c3f1-094ae811af6b"
   },
   "outputs": [
    {
     "data": {
      "text/plain": [
       "['AXP',\n",
       " 'AMGN',\n",
       " 'AAPL',\n",
       " 'BA',\n",
       " 'CAT',\n",
       " 'CSCO',\n",
       " 'CVX',\n",
       " 'GS',\n",
       " 'HD',\n",
       " 'HON',\n",
       " 'IBM',\n",
       " 'INTC',\n",
       " 'JNJ',\n",
       " 'KO',\n",
       " 'JPM',\n",
       " 'MCD',\n",
       " 'MMM',\n",
       " 'MRK',\n",
       " 'MSFT',\n",
       " 'NKE',\n",
       " 'PG',\n",
       " 'TRV',\n",
       " 'UNH',\n",
       " 'CRM',\n",
       " 'VZ',\n",
       " 'V',\n",
       " 'WBA',\n",
       " 'WMT',\n",
       " 'DIS',\n",
       " 'DOW']"
      ]
     },
     "execution_count": 6,
     "metadata": {},
     "output_type": "execute_result"
    }
   ],
   "source": [
    "config_tickers.DOW_30_TICKER"
   ]
  },
  {
   "cell_type": "code",
   "execution_count": 7,
   "metadata": {
    "id": "9xTPG4Fhc-zL"
   },
   "outputs": [],
   "source": [
    "TRAIN_START_DATE = '2009-01-01'\n",
    "TRAIN_END_DATE = '2020-07-01'\n",
    "TRADE_START_DATE = '2020-07-01'\n",
    "TRADE_END_DATE = '2021-10-29'"
   ]
  },
  {
   "cell_type": "code",
   "execution_count": 8,
   "metadata": {
    "colab": {
     "base_uri": "https://localhost:8080/"
    },
    "id": "9LblMI8CO0F3",
    "outputId": "7be76385-50eb-4e8d-f2e5-1795d77b70ba"
   },
   "outputs": [
    {
     "name": "stdout",
     "output_type": "stream",
     "text": [
      "[*********************100%***********************]  1 of 1 completed\n",
      "[*********************100%***********************]  1 of 1 completed\n",
      "[*********************100%***********************]  1 of 1 completed\n",
      "[*********************100%***********************]  1 of 1 completed\n",
      "[*********************100%***********************]  1 of 1 completed\n",
      "[*********************100%***********************]  1 of 1 completed\n",
      "[*********************100%***********************]  1 of 1 completed\n",
      "[*********************100%***********************]  1 of 1 completed\n",
      "[*********************100%***********************]  1 of 1 completed\n",
      "[*********************100%***********************]  1 of 1 completed\n",
      "[*********************100%***********************]  1 of 1 completed\n",
      "[*********************100%***********************]  1 of 1 completed\n",
      "[*********************100%***********************]  1 of 1 completed\n",
      "[*********************100%***********************]  1 of 1 completed\n",
      "[*********************100%***********************]  1 of 1 completed\n",
      "[*********************100%***********************]  1 of 1 completed\n",
      "[*********************100%***********************]  1 of 1 completed\n",
      "[*********************100%***********************]  1 of 1 completed\n",
      "[*********************100%***********************]  1 of 1 completed\n",
      "[*********************100%***********************]  1 of 1 completed\n",
      "[*********************100%***********************]  1 of 1 completed\n",
      "[*********************100%***********************]  1 of 1 completed\n",
      "[*********************100%***********************]  1 of 1 completed\n",
      "[*********************100%***********************]  1 of 1 completed\n",
      "[*********************100%***********************]  1 of 1 completed\n",
      "[*********************100%***********************]  1 of 1 completed\n",
      "[*********************100%***********************]  1 of 1 completed\n",
      "[*********************100%***********************]  1 of 1 completed\n",
      "[*********************100%***********************]  1 of 1 completed\n",
      "[*********************100%***********************]  1 of 1 completed\n",
      "Shape of DataFrame:  (94301, 8)\n"
     ]
    }
   ],
   "source": [
    "df_raw = YahooDownloader(start_date = TRAIN_START_DATE,\n",
    "                     end_date = TRADE_END_DATE,\n",
    "                     ticker_list = config_tickers.DOW_30_TICKER).fetch_data()"
   ]
  },
  {
   "cell_type": "code",
   "execution_count": 9,
   "metadata": {
    "colab": {
     "base_uri": "https://localhost:8080/",
     "height": 206
    },
    "id": "RD9cjHzt8X3A",
    "outputId": "051acda5-c8fd-440a-a5af-6be04cfdc018"
   },
   "outputs": [
    {
     "data": {
      "text/html": [
       "<div>\n",
       "<style scoped>\n",
       "    .dataframe tbody tr th:only-of-type {\n",
       "        vertical-align: middle;\n",
       "    }\n",
       "\n",
       "    .dataframe tbody tr th {\n",
       "        vertical-align: top;\n",
       "    }\n",
       "\n",
       "    .dataframe thead th {\n",
       "        text-align: right;\n",
       "    }\n",
       "</style>\n",
       "<table border=\"1\" class=\"dataframe\">\n",
       "  <thead>\n",
       "    <tr style=\"text-align: right;\">\n",
       "      <th></th>\n",
       "      <th>date</th>\n",
       "      <th>open</th>\n",
       "      <th>high</th>\n",
       "      <th>low</th>\n",
       "      <th>close</th>\n",
       "      <th>volume</th>\n",
       "      <th>tic</th>\n",
       "      <th>day</th>\n",
       "    </tr>\n",
       "  </thead>\n",
       "  <tbody>\n",
       "    <tr>\n",
       "      <th>0</th>\n",
       "      <td>2009-01-02</td>\n",
       "      <td>3.067143</td>\n",
       "      <td>3.251429</td>\n",
       "      <td>3.041429</td>\n",
       "      <td>2.751011</td>\n",
       "      <td>746015200</td>\n",
       "      <td>AAPL</td>\n",
       "      <td>4</td>\n",
       "    </tr>\n",
       "    <tr>\n",
       "      <th>1</th>\n",
       "      <td>2009-01-02</td>\n",
       "      <td>58.590000</td>\n",
       "      <td>59.080002</td>\n",
       "      <td>57.750000</td>\n",
       "      <td>43.073936</td>\n",
       "      <td>6547900</td>\n",
       "      <td>AMGN</td>\n",
       "      <td>4</td>\n",
       "    </tr>\n",
       "    <tr>\n",
       "      <th>2</th>\n",
       "      <td>2009-01-02</td>\n",
       "      <td>18.570000</td>\n",
       "      <td>19.520000</td>\n",
       "      <td>18.400000</td>\n",
       "      <td>15.256273</td>\n",
       "      <td>10955700</td>\n",
       "      <td>AXP</td>\n",
       "      <td>4</td>\n",
       "    </tr>\n",
       "    <tr>\n",
       "      <th>3</th>\n",
       "      <td>2009-01-02</td>\n",
       "      <td>42.799999</td>\n",
       "      <td>45.560001</td>\n",
       "      <td>42.779999</td>\n",
       "      <td>33.941090</td>\n",
       "      <td>7010200</td>\n",
       "      <td>BA</td>\n",
       "      <td>4</td>\n",
       "    </tr>\n",
       "    <tr>\n",
       "      <th>4</th>\n",
       "      <td>2009-01-02</td>\n",
       "      <td>44.910000</td>\n",
       "      <td>46.980000</td>\n",
       "      <td>44.709999</td>\n",
       "      <td>31.254063</td>\n",
       "      <td>7117200</td>\n",
       "      <td>CAT</td>\n",
       "      <td>4</td>\n",
       "    </tr>\n",
       "  </tbody>\n",
       "</table>\n",
       "</div>"
      ],
      "text/plain": [
       "         date       open       high        low      close     volume   tic  \\\n",
       "0  2009-01-02   3.067143   3.251429   3.041429   2.751011  746015200  AAPL   \n",
       "1  2009-01-02  58.590000  59.080002  57.750000  43.073936    6547900  AMGN   \n",
       "2  2009-01-02  18.570000  19.520000  18.400000  15.256273   10955700   AXP   \n",
       "3  2009-01-02  42.799999  45.560001  42.779999  33.941090    7010200    BA   \n",
       "4  2009-01-02  44.910000  46.980000  44.709999  31.254063    7117200   CAT   \n",
       "\n",
       "   day  \n",
       "0    4  \n",
       "1    4  \n",
       "2    4  \n",
       "3    4  \n",
       "4    4  "
      ]
     },
     "execution_count": 9,
     "metadata": {},
     "output_type": "execute_result"
    }
   ],
   "source": [
    "df_raw.head()"
   ]
  },
  {
   "cell_type": "markdown",
   "metadata": {
    "id": "uqC6c40Zh1iH"
   },
   "source": [
    "# Part 3: Preprocess Data"
   ]
  },
  {
   "cell_type": "code",
   "execution_count": 10,
   "metadata": {
    "colab": {
     "base_uri": "https://localhost:8080/"
    },
    "id": "PmKP-1ii3RLS",
    "outputId": "d514cf1a-8609-402e-ad58-df5f9100ec85"
   },
   "outputs": [
    {
     "name": "stdout",
     "output_type": "stream",
     "text": [
      "Successfully added technical indicators\n",
      "[*********************100%***********************]  1 of 1 completed\n",
      "Shape of DataFrame:  (3228, 8)\n",
      "Successfully added vix\n",
      "Successfully added turbulence index\n"
     ]
    }
   ],
   "source": [
    "fe = FeatureEngineer(use_technical_indicator=True,\n",
    "                     tech_indicator_list = INDICATORS,\n",
    "                     use_vix=True,\n",
    "                     use_turbulence=True,\n",
    "                     user_defined_feature = False)\n",
    "\n",
    "processed = fe.preprocess_data(df_raw)"
   ]
  },
  {
   "cell_type": "code",
   "execution_count": 11,
   "metadata": {
    "id": "Kixon2tR3RLT"
   },
   "outputs": [],
   "source": [
    "list_ticker = processed[\"tic\"].unique().tolist()\n",
    "list_date = list(pd.date_range(processed['date'].min(),processed['date'].max()).astype(str))\n",
    "combination = list(itertools.product(list_date,list_ticker))\n",
    "\n",
    "processed_full = pd.DataFrame(combination,columns=[\"date\",\"tic\"]).merge(processed,on=[\"date\",\"tic\"],how=\"left\")\n",
    "processed_full = processed_full[processed_full['date'].isin(processed['date'])]\n",
    "processed_full = processed_full.sort_values(['date','tic'])\n",
    "\n",
    "processed_full = processed_full.fillna(0)"
   ]
  },
  {
   "cell_type": "code",
   "execution_count": 12,
   "metadata": {
    "colab": {
     "base_uri": "https://localhost:8080/",
     "height": 357
    },
    "id": "HwKJNWJSabNK",
    "outputId": "16c8080e-91b0-4e8d-9a09-44939ac69801"
   },
   "outputs": [
    {
     "data": {
      "text/html": [
       "<div>\n",
       "<style scoped>\n",
       "    .dataframe tbody tr th:only-of-type {\n",
       "        vertical-align: middle;\n",
       "    }\n",
       "\n",
       "    .dataframe tbody tr th {\n",
       "        vertical-align: top;\n",
       "    }\n",
       "\n",
       "    .dataframe thead th {\n",
       "        text-align: right;\n",
       "    }\n",
       "</style>\n",
       "<table border=\"1\" class=\"dataframe\">\n",
       "  <thead>\n",
       "    <tr style=\"text-align: right;\">\n",
       "      <th></th>\n",
       "      <th>date</th>\n",
       "      <th>tic</th>\n",
       "      <th>open</th>\n",
       "      <th>high</th>\n",
       "      <th>low</th>\n",
       "      <th>close</th>\n",
       "      <th>volume</th>\n",
       "      <th>day</th>\n",
       "      <th>macd</th>\n",
       "      <th>boll_ub</th>\n",
       "      <th>boll_lb</th>\n",
       "      <th>rsi_30</th>\n",
       "      <th>cci_30</th>\n",
       "      <th>dx_30</th>\n",
       "      <th>close_30_sma</th>\n",
       "      <th>close_60_sma</th>\n",
       "      <th>vix</th>\n",
       "      <th>turbulence</th>\n",
       "    </tr>\n",
       "  </thead>\n",
       "  <tbody>\n",
       "    <tr>\n",
       "      <th>0</th>\n",
       "      <td>2009-01-02</td>\n",
       "      <td>AAPL</td>\n",
       "      <td>3.067143</td>\n",
       "      <td>3.251429</td>\n",
       "      <td>3.041429</td>\n",
       "      <td>2.751011</td>\n",
       "      <td>746015200.0</td>\n",
       "      <td>4.0</td>\n",
       "      <td>0.0</td>\n",
       "      <td>2.973257</td>\n",
       "      <td>2.644867</td>\n",
       "      <td>100.0</td>\n",
       "      <td>66.666667</td>\n",
       "      <td>100.0</td>\n",
       "      <td>2.751011</td>\n",
       "      <td>2.751011</td>\n",
       "      <td>39.189999</td>\n",
       "      <td>0.0</td>\n",
       "    </tr>\n",
       "    <tr>\n",
       "      <th>1</th>\n",
       "      <td>2009-01-02</td>\n",
       "      <td>AMGN</td>\n",
       "      <td>58.590000</td>\n",
       "      <td>59.080002</td>\n",
       "      <td>57.750000</td>\n",
       "      <td>43.073936</td>\n",
       "      <td>6547900.0</td>\n",
       "      <td>4.0</td>\n",
       "      <td>0.0</td>\n",
       "      <td>2.973257</td>\n",
       "      <td>2.644867</td>\n",
       "      <td>100.0</td>\n",
       "      <td>66.666667</td>\n",
       "      <td>100.0</td>\n",
       "      <td>43.073936</td>\n",
       "      <td>43.073936</td>\n",
       "      <td>39.189999</td>\n",
       "      <td>0.0</td>\n",
       "    </tr>\n",
       "    <tr>\n",
       "      <th>2</th>\n",
       "      <td>2009-01-02</td>\n",
       "      <td>AXP</td>\n",
       "      <td>18.570000</td>\n",
       "      <td>19.520000</td>\n",
       "      <td>18.400000</td>\n",
       "      <td>15.256273</td>\n",
       "      <td>10955700.0</td>\n",
       "      <td>4.0</td>\n",
       "      <td>0.0</td>\n",
       "      <td>2.973257</td>\n",
       "      <td>2.644867</td>\n",
       "      <td>100.0</td>\n",
       "      <td>66.666667</td>\n",
       "      <td>100.0</td>\n",
       "      <td>15.256273</td>\n",
       "      <td>15.256273</td>\n",
       "      <td>39.189999</td>\n",
       "      <td>0.0</td>\n",
       "    </tr>\n",
       "    <tr>\n",
       "      <th>3</th>\n",
       "      <td>2009-01-02</td>\n",
       "      <td>BA</td>\n",
       "      <td>42.799999</td>\n",
       "      <td>45.560001</td>\n",
       "      <td>42.779999</td>\n",
       "      <td>33.941090</td>\n",
       "      <td>7010200.0</td>\n",
       "      <td>4.0</td>\n",
       "      <td>0.0</td>\n",
       "      <td>2.973257</td>\n",
       "      <td>2.644867</td>\n",
       "      <td>100.0</td>\n",
       "      <td>66.666667</td>\n",
       "      <td>100.0</td>\n",
       "      <td>33.941090</td>\n",
       "      <td>33.941090</td>\n",
       "      <td>39.189999</td>\n",
       "      <td>0.0</td>\n",
       "    </tr>\n",
       "    <tr>\n",
       "      <th>4</th>\n",
       "      <td>2009-01-02</td>\n",
       "      <td>CAT</td>\n",
       "      <td>44.910000</td>\n",
       "      <td>46.980000</td>\n",
       "      <td>44.709999</td>\n",
       "      <td>31.254063</td>\n",
       "      <td>7117200.0</td>\n",
       "      <td>4.0</td>\n",
       "      <td>0.0</td>\n",
       "      <td>2.973257</td>\n",
       "      <td>2.644867</td>\n",
       "      <td>100.0</td>\n",
       "      <td>66.666667</td>\n",
       "      <td>100.0</td>\n",
       "      <td>31.254063</td>\n",
       "      <td>31.254063</td>\n",
       "      <td>39.189999</td>\n",
       "      <td>0.0</td>\n",
       "    </tr>\n",
       "  </tbody>\n",
       "</table>\n",
       "</div>"
      ],
      "text/plain": [
       "         date   tic       open       high        low      close       volume  \\\n",
       "0  2009-01-02  AAPL   3.067143   3.251429   3.041429   2.751011  746015200.0   \n",
       "1  2009-01-02  AMGN  58.590000  59.080002  57.750000  43.073936    6547900.0   \n",
       "2  2009-01-02   AXP  18.570000  19.520000  18.400000  15.256273   10955700.0   \n",
       "3  2009-01-02    BA  42.799999  45.560001  42.779999  33.941090    7010200.0   \n",
       "4  2009-01-02   CAT  44.910000  46.980000  44.709999  31.254063    7117200.0   \n",
       "\n",
       "   day  macd   boll_ub   boll_lb  rsi_30     cci_30  dx_30  close_30_sma  \\\n",
       "0  4.0   0.0  2.973257  2.644867   100.0  66.666667  100.0      2.751011   \n",
       "1  4.0   0.0  2.973257  2.644867   100.0  66.666667  100.0     43.073936   \n",
       "2  4.0   0.0  2.973257  2.644867   100.0  66.666667  100.0     15.256273   \n",
       "3  4.0   0.0  2.973257  2.644867   100.0  66.666667  100.0     33.941090   \n",
       "4  4.0   0.0  2.973257  2.644867   100.0  66.666667  100.0     31.254063   \n",
       "\n",
       "   close_60_sma        vix  turbulence  \n",
       "0      2.751011  39.189999         0.0  \n",
       "1     43.073936  39.189999         0.0  \n",
       "2     15.256273  39.189999         0.0  \n",
       "3     33.941090  39.189999         0.0  \n",
       "4     31.254063  39.189999         0.0  "
      ]
     },
     "execution_count": 12,
     "metadata": {},
     "output_type": "execute_result"
    }
   ],
   "source": [
    "processed_full.head()"
   ]
  },
  {
   "cell_type": "markdown",
   "metadata": {
    "id": "ydLNxwdPIJhW"
   },
   "source": [
    "# Part 4: Save the Data"
   ]
  },
  {
   "cell_type": "markdown",
   "metadata": {
    "id": "VbMDnfukILc_"
   },
   "source": [
    "### Split the data for training and trading"
   ]
  },
  {
   "cell_type": "code",
   "execution_count": 13,
   "metadata": {
    "colab": {
     "base_uri": "https://localhost:8080/"
    },
    "id": "iEiXDdUhZP7R",
    "outputId": "554b1c09-6d6f-48fb-c724-351b40a2ddaf"
   },
   "outputs": [
    {
     "name": "stdout",
     "output_type": "stream",
     "text": [
      "83897\n",
      "9715\n"
     ]
    }
   ],
   "source": [
    "train = data_split(processed_full, TRAIN_START_DATE,TRAIN_END_DATE)\n",
    "trade = data_split(processed_full, TRADE_START_DATE,TRADE_END_DATE)\n",
    "print(len(train))\n",
    "print(len(trade))"
   ]
  },
  {
   "cell_type": "markdown",
   "metadata": {
    "id": "DflbzEV8IRhF"
   },
   "source": [
    "### Save data to csv file"
   ]
  },
  {
   "cell_type": "code",
   "execution_count": 14,
   "metadata": {
    "id": "j2c12CpfHEjE"
   },
   "outputs": [],
   "source": [
    "train.to_csv('train_data.csv')\n",
    "trade.to_csv('trade_data.csv')"
   ]
  },
  {
   "cell_type": "code",
   "execution_count": 15,
   "metadata": {},
   "outputs": [
    {
     "data": {
      "text/html": [
       "<div>\n",
       "<style scoped>\n",
       "    .dataframe tbody tr th:only-of-type {\n",
       "        vertical-align: middle;\n",
       "    }\n",
       "\n",
       "    .dataframe tbody tr th {\n",
       "        vertical-align: top;\n",
       "    }\n",
       "\n",
       "    .dataframe thead th {\n",
       "        text-align: right;\n",
       "    }\n",
       "</style>\n",
       "<table border=\"1\" class=\"dataframe\">\n",
       "  <thead>\n",
       "    <tr style=\"text-align: right;\">\n",
       "      <th></th>\n",
       "      <th>date</th>\n",
       "      <th>tic</th>\n",
       "      <th>open</th>\n",
       "      <th>high</th>\n",
       "      <th>low</th>\n",
       "      <th>close</th>\n",
       "      <th>volume</th>\n",
       "      <th>day</th>\n",
       "      <th>macd</th>\n",
       "      <th>boll_ub</th>\n",
       "      <th>boll_lb</th>\n",
       "      <th>rsi_30</th>\n",
       "      <th>cci_30</th>\n",
       "      <th>dx_30</th>\n",
       "      <th>close_30_sma</th>\n",
       "      <th>close_60_sma</th>\n",
       "      <th>vix</th>\n",
       "      <th>turbulence</th>\n",
       "    </tr>\n",
       "  </thead>\n",
       "  <tbody>\n",
       "    <tr>\n",
       "      <th>0</th>\n",
       "      <td>2009-01-02</td>\n",
       "      <td>AAPL</td>\n",
       "      <td>3.067143</td>\n",
       "      <td>3.251429</td>\n",
       "      <td>3.041429</td>\n",
       "      <td>2.751011</td>\n",
       "      <td>746015200.0</td>\n",
       "      <td>4.0</td>\n",
       "      <td>0.000000</td>\n",
       "      <td>2.973257</td>\n",
       "      <td>2.644867</td>\n",
       "      <td>100.000000</td>\n",
       "      <td>66.666667</td>\n",
       "      <td>100.000000</td>\n",
       "      <td>2.751011</td>\n",
       "      <td>2.751011</td>\n",
       "      <td>39.189999</td>\n",
       "      <td>0.000000</td>\n",
       "    </tr>\n",
       "    <tr>\n",
       "      <th>1</th>\n",
       "      <td>2009-01-02</td>\n",
       "      <td>AMGN</td>\n",
       "      <td>58.590000</td>\n",
       "      <td>59.080002</td>\n",
       "      <td>57.750000</td>\n",
       "      <td>43.073936</td>\n",
       "      <td>6547900.0</td>\n",
       "      <td>4.0</td>\n",
       "      <td>0.000000</td>\n",
       "      <td>2.973257</td>\n",
       "      <td>2.644867</td>\n",
       "      <td>100.000000</td>\n",
       "      <td>66.666667</td>\n",
       "      <td>100.000000</td>\n",
       "      <td>43.073936</td>\n",
       "      <td>43.073936</td>\n",
       "      <td>39.189999</td>\n",
       "      <td>0.000000</td>\n",
       "    </tr>\n",
       "    <tr>\n",
       "      <th>2</th>\n",
       "      <td>2009-01-02</td>\n",
       "      <td>AXP</td>\n",
       "      <td>18.570000</td>\n",
       "      <td>19.520000</td>\n",
       "      <td>18.400000</td>\n",
       "      <td>15.256273</td>\n",
       "      <td>10955700.0</td>\n",
       "      <td>4.0</td>\n",
       "      <td>0.000000</td>\n",
       "      <td>2.973257</td>\n",
       "      <td>2.644867</td>\n",
       "      <td>100.000000</td>\n",
       "      <td>66.666667</td>\n",
       "      <td>100.000000</td>\n",
       "      <td>15.256273</td>\n",
       "      <td>15.256273</td>\n",
       "      <td>39.189999</td>\n",
       "      <td>0.000000</td>\n",
       "    </tr>\n",
       "    <tr>\n",
       "      <th>3</th>\n",
       "      <td>2009-01-02</td>\n",
       "      <td>BA</td>\n",
       "      <td>42.799999</td>\n",
       "      <td>45.560001</td>\n",
       "      <td>42.779999</td>\n",
       "      <td>33.941090</td>\n",
       "      <td>7010200.0</td>\n",
       "      <td>4.0</td>\n",
       "      <td>0.000000</td>\n",
       "      <td>2.973257</td>\n",
       "      <td>2.644867</td>\n",
       "      <td>100.000000</td>\n",
       "      <td>66.666667</td>\n",
       "      <td>100.000000</td>\n",
       "      <td>33.941090</td>\n",
       "      <td>33.941090</td>\n",
       "      <td>39.189999</td>\n",
       "      <td>0.000000</td>\n",
       "    </tr>\n",
       "    <tr>\n",
       "      <th>4</th>\n",
       "      <td>2009-01-02</td>\n",
       "      <td>CAT</td>\n",
       "      <td>44.910000</td>\n",
       "      <td>46.980000</td>\n",
       "      <td>44.709999</td>\n",
       "      <td>31.254063</td>\n",
       "      <td>7117200.0</td>\n",
       "      <td>4.0</td>\n",
       "      <td>0.000000</td>\n",
       "      <td>2.973257</td>\n",
       "      <td>2.644867</td>\n",
       "      <td>100.000000</td>\n",
       "      <td>66.666667</td>\n",
       "      <td>100.000000</td>\n",
       "      <td>31.254063</td>\n",
       "      <td>31.254063</td>\n",
       "      <td>39.189999</td>\n",
       "      <td>0.000000</td>\n",
       "    </tr>\n",
       "    <tr>\n",
       "      <th>...</th>\n",
       "      <td>...</td>\n",
       "      <td>...</td>\n",
       "      <td>...</td>\n",
       "      <td>...</td>\n",
       "      <td>...</td>\n",
       "      <td>...</td>\n",
       "      <td>...</td>\n",
       "      <td>...</td>\n",
       "      <td>...</td>\n",
       "      <td>...</td>\n",
       "      <td>...</td>\n",
       "      <td>...</td>\n",
       "      <td>...</td>\n",
       "      <td>...</td>\n",
       "      <td>...</td>\n",
       "      <td>...</td>\n",
       "      <td>...</td>\n",
       "      <td>...</td>\n",
       "    </tr>\n",
       "    <tr>\n",
       "      <th>135773</th>\n",
       "      <td>2021-10-27</td>\n",
       "      <td>UNH</td>\n",
       "      <td>454.640015</td>\n",
       "      <td>460.440002</td>\n",
       "      <td>453.480011</td>\n",
       "      <td>442.888275</td>\n",
       "      <td>3520400.0</td>\n",
       "      <td>2.0</td>\n",
       "      <td>11.389334</td>\n",
       "      <td>453.317599</td>\n",
       "      <td>363.583100</td>\n",
       "      <td>65.085948</td>\n",
       "      <td>174.334935</td>\n",
       "      <td>51.571330</td>\n",
       "      <td>405.454169</td>\n",
       "      <td>405.739810</td>\n",
       "      <td>16.980000</td>\n",
       "      <td>145.285221</td>\n",
       "    </tr>\n",
       "    <tr>\n",
       "      <th>135774</th>\n",
       "      <td>2021-10-27</td>\n",
       "      <td>V</td>\n",
       "      <td>224.750000</td>\n",
       "      <td>224.750000</td>\n",
       "      <td>215.660004</td>\n",
       "      <td>212.550888</td>\n",
       "      <td>22958100.0</td>\n",
       "      <td>2.0</td>\n",
       "      <td>0.013828</td>\n",
       "      <td>233.490236</td>\n",
       "      <td>215.279985</td>\n",
       "      <td>41.737207</td>\n",
       "      <td>-153.711177</td>\n",
       "      <td>30.337021</td>\n",
       "      <td>223.493653</td>\n",
       "      <td>225.707213</td>\n",
       "      <td>16.980000</td>\n",
       "      <td>145.285221</td>\n",
       "    </tr>\n",
       "    <tr>\n",
       "      <th>135775</th>\n",
       "      <td>2021-10-27</td>\n",
       "      <td>VZ</td>\n",
       "      <td>53.169998</td>\n",
       "      <td>53.200001</td>\n",
       "      <td>52.470001</td>\n",
       "      <td>47.476547</td>\n",
       "      <td>15007400.0</td>\n",
       "      <td>2.0</td>\n",
       "      <td>-0.220521</td>\n",
       "      <td>49.223191</td>\n",
       "      <td>46.156535</td>\n",
       "      <td>44.604910</td>\n",
       "      <td>-50.018824</td>\n",
       "      <td>8.504850</td>\n",
       "      <td>47.925124</td>\n",
       "      <td>48.541796</td>\n",
       "      <td>16.980000</td>\n",
       "      <td>145.285221</td>\n",
       "    </tr>\n",
       "    <tr>\n",
       "      <th>135776</th>\n",
       "      <td>2021-10-27</td>\n",
       "      <td>WBA</td>\n",
       "      <td>48.450001</td>\n",
       "      <td>48.459999</td>\n",
       "      <td>47.090000</td>\n",
       "      <td>42.596809</td>\n",
       "      <td>5652000.0</td>\n",
       "      <td>2.0</td>\n",
       "      <td>-0.014852</td>\n",
       "      <td>45.261754</td>\n",
       "      <td>41.446075</td>\n",
       "      <td>46.167780</td>\n",
       "      <td>-62.274121</td>\n",
       "      <td>5.045608</td>\n",
       "      <td>43.558371</td>\n",
       "      <td>43.880977</td>\n",
       "      <td>16.980000</td>\n",
       "      <td>145.285221</td>\n",
       "    </tr>\n",
       "    <tr>\n",
       "      <th>135777</th>\n",
       "      <td>2021-10-27</td>\n",
       "      <td>WMT</td>\n",
       "      <td>148.960007</td>\n",
       "      <td>149.020004</td>\n",
       "      <td>147.389999</td>\n",
       "      <td>143.020203</td>\n",
       "      <td>4855200.0</td>\n",
       "      <td>2.0</td>\n",
       "      <td>1.514193</td>\n",
       "      <td>146.313353</td>\n",
       "      <td>128.700708</td>\n",
       "      <td>57.061094</td>\n",
       "      <td>124.802270</td>\n",
       "      <td>30.006323</td>\n",
       "      <td>137.794953</td>\n",
       "      <td>140.471093</td>\n",
       "      <td>16.980000</td>\n",
       "      <td>145.285221</td>\n",
       "    </tr>\n",
       "  </tbody>\n",
       "</table>\n",
       "<p>93612 rows × 18 columns</p>\n",
       "</div>"
      ],
      "text/plain": [
       "              date   tic        open        high         low       close  \\\n",
       "0       2009-01-02  AAPL    3.067143    3.251429    3.041429    2.751011   \n",
       "1       2009-01-02  AMGN   58.590000   59.080002   57.750000   43.073936   \n",
       "2       2009-01-02   AXP   18.570000   19.520000   18.400000   15.256273   \n",
       "3       2009-01-02    BA   42.799999   45.560001   42.779999   33.941090   \n",
       "4       2009-01-02   CAT   44.910000   46.980000   44.709999   31.254063   \n",
       "...            ...   ...         ...         ...         ...         ...   \n",
       "135773  2021-10-27   UNH  454.640015  460.440002  453.480011  442.888275   \n",
       "135774  2021-10-27     V  224.750000  224.750000  215.660004  212.550888   \n",
       "135775  2021-10-27    VZ   53.169998   53.200001   52.470001   47.476547   \n",
       "135776  2021-10-27   WBA   48.450001   48.459999   47.090000   42.596809   \n",
       "135777  2021-10-27   WMT  148.960007  149.020004  147.389999  143.020203   \n",
       "\n",
       "             volume  day       macd     boll_ub     boll_lb      rsi_30  \\\n",
       "0       746015200.0  4.0   0.000000    2.973257    2.644867  100.000000   \n",
       "1         6547900.0  4.0   0.000000    2.973257    2.644867  100.000000   \n",
       "2        10955700.0  4.0   0.000000    2.973257    2.644867  100.000000   \n",
       "3         7010200.0  4.0   0.000000    2.973257    2.644867  100.000000   \n",
       "4         7117200.0  4.0   0.000000    2.973257    2.644867  100.000000   \n",
       "...             ...  ...        ...         ...         ...         ...   \n",
       "135773    3520400.0  2.0  11.389334  453.317599  363.583100   65.085948   \n",
       "135774   22958100.0  2.0   0.013828  233.490236  215.279985   41.737207   \n",
       "135775   15007400.0  2.0  -0.220521   49.223191   46.156535   44.604910   \n",
       "135776    5652000.0  2.0  -0.014852   45.261754   41.446075   46.167780   \n",
       "135777    4855200.0  2.0   1.514193  146.313353  128.700708   57.061094   \n",
       "\n",
       "            cci_30       dx_30  close_30_sma  close_60_sma        vix  \\\n",
       "0        66.666667  100.000000      2.751011      2.751011  39.189999   \n",
       "1        66.666667  100.000000     43.073936     43.073936  39.189999   \n",
       "2        66.666667  100.000000     15.256273     15.256273  39.189999   \n",
       "3        66.666667  100.000000     33.941090     33.941090  39.189999   \n",
       "4        66.666667  100.000000     31.254063     31.254063  39.189999   \n",
       "...            ...         ...           ...           ...        ...   \n",
       "135773  174.334935   51.571330    405.454169    405.739810  16.980000   \n",
       "135774 -153.711177   30.337021    223.493653    225.707213  16.980000   \n",
       "135775  -50.018824    8.504850     47.925124     48.541796  16.980000   \n",
       "135776  -62.274121    5.045608     43.558371     43.880977  16.980000   \n",
       "135777  124.802270   30.006323    137.794953    140.471093  16.980000   \n",
       "\n",
       "        turbulence  \n",
       "0         0.000000  \n",
       "1         0.000000  \n",
       "2         0.000000  \n",
       "3         0.000000  \n",
       "4         0.000000  \n",
       "...            ...  \n",
       "135773  145.285221  \n",
       "135774  145.285221  \n",
       "135775  145.285221  \n",
       "135776  145.285221  \n",
       "135777  145.285221  \n",
       "\n",
       "[93612 rows x 18 columns]"
      ]
     },
     "execution_count": 15,
     "metadata": {},
     "output_type": "execute_result"
    }
   ],
   "source": [
    "processed_full"
   ]
  },
  {
   "cell_type": "code",
   "execution_count": 26,
   "metadata": {},
   "outputs": [
    {
     "name": "stdout",
     "output_type": "stream",
     "text": [
      "AAPL 3228\n",
      "AMGN 3228\n",
      "AXP 3228\n",
      "BA 3228\n",
      "CAT 3228\n",
      "CRM 3228\n",
      "CSCO 3228\n",
      "CVX 3228\n",
      "DIS 3228\n",
      "GS 3228\n",
      "HD 3228\n",
      "HON 3228\n",
      "IBM 3228\n",
      "INTC 3228\n",
      "JNJ 3228\n",
      "JPM 3228\n",
      "KO 3228\n",
      "MCD 3228\n",
      "MMM 3228\n",
      "MRK 3228\n",
      "MSFT 3228\n",
      "NKE 3228\n",
      "PG 3228\n",
      "TRV 3228\n",
      "UNH 3228\n",
      "V 3228\n",
      "VZ 3228\n",
      "WBA 3228\n",
      "WMT 3228\n"
     ]
    }
   ],
   "source": [
    "bazar = list(processed_full['tic'].unique())\n",
    "for i in bazar:\n",
    "    mask = processed_full['tic'] == i\n",
    "    count = len(processed_full[mask])\n",
    "    print(i, count)\n",
    " "
   ]
  },
  {
   "cell_type": "code",
   "execution_count": 27,
   "metadata": {},
   "outputs": [
    {
     "data": {
      "text/plain": [
       "['AAPL',\n",
       " 'AMGN',\n",
       " 'AXP',\n",
       " 'BA',\n",
       " 'CAT',\n",
       " 'CRM',\n",
       " 'CSCO',\n",
       " 'CVX',\n",
       " 'DIS',\n",
       " 'GS',\n",
       " 'HD',\n",
       " 'HON',\n",
       " 'IBM',\n",
       " 'INTC',\n",
       " 'JNJ',\n",
       " 'JPM',\n",
       " 'KO',\n",
       " 'MCD',\n",
       " 'MMM',\n",
       " 'MRK',\n",
       " 'MSFT',\n",
       " 'NKE',\n",
       " 'PG',\n",
       " 'TRV',\n",
       " 'UNH',\n",
       " 'V',\n",
       " 'VZ',\n",
       " 'WBA',\n",
       " 'WMT']"
      ]
     },
     "execution_count": 27,
     "metadata": {},
     "output_type": "execute_result"
    }
   ],
   "source": [
    "bazar"
   ]
  },
  {
   "cell_type": "code",
   "execution_count": null,
   "metadata": {},
   "outputs": [],
   "source": []
  }
 ],
 "metadata": {
  "colab": {
   "provenance": []
  },
  "kernelspec": {
   "display_name": "Python 3 (ipykernel)",
   "language": "python",
   "name": "python3"
  },
  "language_info": {
   "codemirror_mode": {
    "name": "ipython",
    "version": 3
   },
   "file_extension": ".py",
   "mimetype": "text/x-python",
   "name": "python",
   "nbconvert_exporter": "python",
   "pygments_lexer": "ipython3",
   "version": "3.10.6"
  },
  "widgets": {
   "application/vnd.jupyter.widget-state+json": {
    "state": {},
    "version_major": 2,
    "version_minor": 0
   }
  }
 },
 "nbformat": 4,
 "nbformat_minor": 4
}
